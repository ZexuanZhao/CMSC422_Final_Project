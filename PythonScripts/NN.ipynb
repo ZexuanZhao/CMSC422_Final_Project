{
 "cells": [
  {
   "cell_type": "code",
   "execution_count": 1,
   "outputs": [],
   "source": [
    "%load_ext autoreload\n",
    "%autoreload 2"
   ],
   "metadata": {
    "collapsed": false,
    "pycharm": {
     "name": "#%%\n"
    }
   }
  },
  {
   "cell_type": "markdown",
   "source": [
    "# Neural network"
   ],
   "metadata": {
    "collapsed": false,
    "pycharm": {
     "name": "#%% md\n"
    }
   }
  },
  {
   "cell_type": "code",
   "execution_count": 2,
   "metadata": {
    "collapsed": true,
    "pycharm": {
     "name": "#%%\n"
    }
   },
   "outputs": [],
   "source": [
    "import numpy as np\n",
    "from matplotlib import pyplot as plt\n",
    "from re import search\n",
    "from itertools import permutations\n",
    "from sklearn.metrics import confusion_matrix, r2_score\n",
    "import pickle"
   ]
  },
  {
   "cell_type": "markdown",
   "source": [
    "## Loading preprocessed data"
   ],
   "metadata": {
    "collapsed": false,
    "pycharm": {
     "name": "#%% md\n"
    }
   }
  },
  {
   "cell_type": "code",
   "execution_count": 3,
   "outputs": [],
   "source": [
    "X = np.loadtxt(open(\"../data/X.csv\", \"rb\"), delimiter=\",\")\n",
    "Y = np.loadtxt(open(\"../data/Y.csv\", \"rb\"), delimiter=\",\")\n",
    "with open('../data/X.colnames.txt', 'r') as file:\n",
    "    line = file.readline().strip()\n",
    "    col_names = line.split(',')"
   ],
   "metadata": {
    "collapsed": false,
    "pycharm": {
     "name": "#%%\n"
    }
   }
  },
  {
   "cell_type": "markdown",
   "source": [
    "## Data Exploration"
   ],
   "metadata": {
    "collapsed": false,
    "pycharm": {
     "name": "#%% md\n"
    }
   }
  },
  {
   "cell_type": "markdown",
   "source": [
    "Predictors:"
   ],
   "metadata": {
    "collapsed": false,
    "pycharm": {
     "name": "#%% md\n"
    }
   }
  },
  {
   "cell_type": "code",
   "execution_count": 4,
   "outputs": [
    {
     "data": {
      "text/plain": "(8210, 42)"
     },
     "execution_count": 4,
     "metadata": {},
     "output_type": "execute_result"
    }
   ],
   "source": [
    "X.shape"
   ],
   "metadata": {
    "collapsed": false,
    "pycharm": {
     "name": "#%%\n"
    }
   }
  },
  {
   "cell_type": "markdown",
   "source": [
    "Response:"
   ],
   "metadata": {
    "collapsed": false,
    "pycharm": {
     "name": "#%% md\n"
    }
   }
  },
  {
   "cell_type": "code",
   "execution_count": 5,
   "outputs": [
    {
     "data": {
      "text/plain": "(8210, 2)"
     },
     "execution_count": 5,
     "metadata": {},
     "output_type": "execute_result"
    }
   ],
   "source": [
    "Y.shape"
   ],
   "metadata": {
    "collapsed": false,
    "pycharm": {
     "name": "#%%\n"
    }
   }
  },
  {
   "cell_type": "markdown",
   "source": [
    "Meanings for each column in X:"
   ],
   "metadata": {
    "collapsed": false,
    "pycharm": {
     "name": "#%% md\n"
    }
   }
  },
  {
   "cell_type": "code",
   "execution_count": 6,
   "outputs": [
    {
     "data": {
      "text/plain": "['Postfloodingorirrigatedcroplandsoaquatic',\n 'Rainfedcroplands',\n 'Mosaiccropland5070vegetationgrasslandshrublandforest2050',\n 'Mosaicvegetationgrasslandshrublandforest5070cropland2050',\n 'Closedtoopen15broadleavedevergreenorsemideciduousforest5m',\n 'Closed40broadleaveddeciduousforest5m',\n 'Open1540broadleaveddeciduousforestwoodland5m',\n 'Closed40needleleavedevergreenforest5m',\n 'Open1540needleleaveddeciduousorevergreenforest5m',\n 'Closedtoopen15mixedbroadleavedandneedleleavedforest5m',\n 'Mosaicforestorshrubland5070grassland2050',\n 'Mosaicgrassland5070forestorshrubland2050',\n 'Closedtoopen15broadleavedorneedleleavedevergreenordeciduousshrubland5m',\n 'Closedtoopen15herbaceousvegetationgrasslandsavannasorlichensmosses',\n 'Sparse15vegetation',\n 'Closedtoopen15broadleavedforestregularlyfloodedsemipermanentlyortemporarilyFreshorbrackishwater',\n 'Closed40broadleavedforestorshrublandpermanentlyfloodedSalineorbrackishwater',\n 'Closedtoopen15grasslandorwoodyvegetationonregularlyfloodedorwaterloggedsoilFreshbrackishorsalinewater',\n 'ArtificialsurfacesandassociatedareasUrbanareas50',\n 'Bareareas',\n 'Waterbodies',\n 'Permanentsnowandice',\n 'Nodataburntareasclouds',\n 'area',\n 'max_lat',\n 'min_lat',\n 'max_lon',\n 'min_lon',\n 'length',\n 'abs_min_lat',\n 'abs_max_lat',\n 'abs_mid_lat',\n 'elevation_mean',\n 'elevation_sd',\n 'Metabolism_ectotherm',\n 'Metabolism_endotherm',\n 'Metabolism_photosynthesis',\n 'Habit_aquatic',\n 'Habit_parasitic',\n 'Habit_terrestrial',\n 'Habit_transitional',\n 'Habit_winged']"
     },
     "execution_count": 6,
     "metadata": {},
     "output_type": "execute_result"
    }
   ],
   "source": [
    "col_names"
   ],
   "metadata": {
    "collapsed": false,
    "pycharm": {
     "name": "#%%\n"
    }
   }
  },
  {
   "cell_type": "markdown",
   "source": [
    "3 of them are hot encoded Metabolism:"
   ],
   "metadata": {
    "collapsed": false,
    "pycharm": {
     "name": "#%% md\n"
    }
   }
  },
  {
   "cell_type": "code",
   "execution_count": 7,
   "outputs": [
    {
     "data": {
      "text/plain": "[(34, 'Metabolism_ectotherm'),\n (35, 'Metabolism_endotherm'),\n (36, 'Metabolism_photosynthesis')]"
     },
     "execution_count": 7,
     "metadata": {},
     "output_type": "execute_result"
    }
   ],
   "source": [
    "[(i,col_names[i]) for i in range(len(col_names)) if search(\"Metabolism\", col_names[i])]"
   ],
   "metadata": {
    "collapsed": false,
    "pycharm": {
     "name": "#%%\n"
    }
   }
  },
  {
   "cell_type": "markdown",
   "source": [
    "And 5 of them are hot encoded Habit:"
   ],
   "metadata": {
    "collapsed": false,
    "pycharm": {
     "name": "#%% md\n"
    }
   }
  },
  {
   "cell_type": "code",
   "execution_count": 8,
   "outputs": [
    {
     "data": {
      "text/plain": "[(37, 'Habit_aquatic'),\n (38, 'Habit_parasitic'),\n (39, 'Habit_terrestrial'),\n (40, 'Habit_transitional'),\n (41, 'Habit_winged')]"
     },
     "execution_count": 8,
     "metadata": {},
     "output_type": "execute_result"
    }
   ],
   "source": [
    "[(i,col_names[i]) for i in range(len(col_names)) if search(\"Habit\", col_names[i])]"
   ],
   "metadata": {
    "collapsed": false,
    "pycharm": {
     "name": "#%%\n"
    }
   }
  },
  {
   "cell_type": "markdown",
   "source": [
    "## Build neural network regressor"
   ],
   "metadata": {
    "collapsed": false,
    "pycharm": {
     "name": "#%% md\n"
    }
   }
  },
  {
   "cell_type": "markdown",
   "source": [
    "Here I used `MLPRegressor` from `sklearn.neural_network` to build neural network."
   ],
   "metadata": {
    "collapsed": false,
    "pycharm": {
     "name": "#%% md\n"
    }
   }
  },
  {
   "cell_type": "markdown",
   "source": [
    "### Find best number of layers and neurons through grid search"
   ],
   "metadata": {
    "collapsed": false,
    "pycharm": {
     "name": "#%% md\n"
    }
   }
  },
  {
   "cell_type": "markdown",
   "source": [
    "As there are 42 predictors, and 8 of them are hot encoded by 2 variables, here I set the maximum number of neurons each layer can have to 36, and maximum number of layer to 4 and minimum number of neurons to be 4."
   ],
   "metadata": {
    "collapsed": false,
    "pycharm": {
     "name": "#%% md\n"
    }
   }
  },
  {
   "cell_type": "code",
   "execution_count": 9,
   "outputs": [],
   "source": [
    "def generate_nn_configs(max_layers, max_neurons, step = 1, min_neurons = 4):\n",
    "    configs = []\n",
    "    for l in range(1, max_layers+1):\n",
    "        if l == 1:\n",
    "            configs.extend([(x) for x in range(min_neurons, max_neurons + 1, step)])\n",
    "        else:\n",
    "            configs.extend([x for x in permutations(range(min_neurons, max_neurons + 1, step), l)])\n",
    "    return configs"
   ],
   "metadata": {
    "collapsed": false,
    "pycharm": {
     "name": "#%%\n"
    }
   }
  },
  {
   "cell_type": "markdown",
   "source": [
    "Increment is set to 4 otherwise there are too many configurations. Check the total number of neural networks compared."
   ],
   "metadata": {
    "collapsed": false,
    "pycharm": {
     "name": "#%% md\n"
    }
   }
  },
  {
   "cell_type": "code",
   "execution_count": 10,
   "outputs": [
    {
     "data": {
      "text/plain": "585"
     },
     "execution_count": 10,
     "metadata": {},
     "output_type": "execute_result"
    }
   ],
   "source": [
    "hidden_layer_configs = generate_nn_configs(max_layers = 3,\n",
    "                                           max_neurons = 36,\n",
    "                                           step = 4,\n",
    "                                           min_neurons = 4)\n",
    "len(hidden_layer_configs)"
   ],
   "metadata": {
    "collapsed": false,
    "pycharm": {
     "name": "#%%\n"
    }
   }
  },
  {
   "cell_type": "markdown",
   "source": [
    "The grid search is in `gridSearchLayerNeuron.py`. The criteria is 3-fold CV. The results has been generated and saved to `grid_result`."
   ],
   "metadata": {
    "collapsed": false,
    "pycharm": {
     "name": "#%% md\n"
    }
   }
  },
  {
   "cell_type": "code",
   "execution_count": 11,
   "outputs": [],
   "source": [
    "#! python gridSearchLayerNeuron.py"
   ],
   "metadata": {
    "collapsed": false,
    "pycharm": {
     "name": "#%%\n"
    }
   }
  },
  {
   "cell_type": "markdown",
   "source": [
    "Loading the result and print the best number of layers and neurons. The best model is NN with 3 layers and 4, 8, 36 neurons each layer."
   ],
   "metadata": {
    "collapsed": false,
    "pycharm": {
     "name": "#%% md\n"
    }
   }
  },
  {
   "cell_type": "code",
   "execution_count": 12,
   "outputs": [
    {
     "name": "stdout",
     "output_type": "stream",
     "text": [
      "Best: -0.175989 using {'hidden_layer_sizes': (4, 8, 36)}\n"
     ]
    }
   ],
   "source": [
    "with open('grid_result', 'rb') as grid_result_file:\n",
    "    grid_result = pickle.load(grid_result_file)\n",
    "print(\"Best: %f using %s\" % (grid_result.best_score_, grid_result.best_params_))"
   ],
   "metadata": {
    "collapsed": false,
    "pycharm": {
     "name": "#%%\n"
    }
   }
  },
  {
   "cell_type": "markdown",
   "source": [
    "Get the trained model and check the learning curve:"
   ],
   "metadata": {
    "collapsed": false,
    "pycharm": {
     "name": "#%% md\n"
    }
   }
  },
  {
   "cell_type": "code",
   "execution_count": 13,
   "outputs": [
    {
     "data": {
      "text/plain": "[<matplotlib.lines.Line2D at 0x12e1e3f10>]"
     },
     "execution_count": 13,
     "metadata": {},
     "output_type": "execute_result"
    },
    {
     "data": {
      "text/plain": "<Figure size 640x480 with 1 Axes>",
      "image/png": "[encoded data removed]"
     },
     "metadata": {},
     "output_type": "display_data"
    }
   ],
   "source": [
    "reg = grid_result.best_estimator_\n",
    "plt.plot(reg.loss_curve_)"
   ],
   "metadata": {
    "collapsed": false,
    "pycharm": {
     "name": "#%%\n"
    }
   }
  },
  {
   "cell_type": "markdown",
   "source": [
    "### Check the \"Accuracy\" of model\n",
    "\n",
    "Just for comparison, although I used p-value as response for the neural network,\n",
    "here I transformed the true and predicted p-value by a threshold of `0.05` and\n",
    "calculate the confusion matrix."
   ],
   "metadata": {
    "collapsed": false,
    "pycharm": {
     "name": "#%% md\n"
    }
   }
  },
  {
   "cell_type": "code",
   "execution_count": 14,
   "outputs": [],
   "source": [
    "# because p-values of IBD and IBE are referring to 2 hypotheses,\n",
    "# The confusion matrix is built on IBD and IBE individually\n",
    "# The function will build a confusion matrix for each column\n",
    "def confusion_matrix_list(Y, Y_hat):\n",
    "    Y_labeled = Y <= 0.05\n",
    "    Y_hat_labeled = Y_hat <= 0.05\n",
    "\n",
    "    N, D = Y_labeled.shape\n",
    "    cm = []\n",
    "    for d in range(D):\n",
    "        Y_labeled_d = Y_labeled[:,d]\n",
    "        Y_hat_labeled_d = Y_hat_labeled[:,d]\n",
    "        cm.append(confusion_matrix(Y_labeled_d, Y_hat_labeled_d, normalize = \"true\", labels= [True, False]))\n",
    "    return cm"
   ],
   "metadata": {
    "collapsed": false,
    "pycharm": {
     "name": "#%%\n"
    }
   }
  },
  {
   "cell_type": "code",
   "execution_count": 15,
   "outputs": [
    {
     "data": {
      "text/plain": "[array([[0.00183066, 0.99816934],\n        [0.00165975, 0.99834025]]),\n array([[0.00327332, 0.99672668],\n        [0.00125451, 0.99874549]])]"
     },
     "execution_count": 15,
     "metadata": {},
     "output_type": "execute_result"
    }
   ],
   "source": [
    "confusion_matrix_list(Y, reg.predict(X))"
   ],
   "metadata": {
    "collapsed": false,
    "pycharm": {
     "name": "#%%\n"
    }
   }
  },
  {
   "cell_type": "markdown",
   "source": [],
   "metadata": {
    "collapsed": false,
    "pycharm": {
     "name": "#%% md\n"
    }
   }
  },
  {
   "cell_type": "markdown",
   "source": [
    "Unfortunately although training set has been balanced (see `gridSearchLayerNeuron.py`), the false negative rate is still extremely high.\n",
    "I will proceed the analysis, but keep in mind that the NN trained is undertrained."
   ],
   "metadata": {
    "collapsed": false,
    "pycharm": {
     "name": "#%% md\n"
    }
   }
  },
  {
   "cell_type": "markdown",
   "source": [
    "## Importance analysis"
   ],
   "metadata": {
    "collapsed": false,
    "pycharm": {
     "name": "#%% md\n"
    }
   }
  },
  {
   "cell_type": "code",
   "execution_count": 16,
   "outputs": [],
   "source": [
    "## Util function\n",
    "## Given X and index of columns to be permuted\n",
    "## Return permuted X with columns permuted TOGETHER,\n",
    "## This is because hot encoded columns should only have one 1 per row\n",
    "## Permuting each column individually does not work for hot encoded columns\n",
    "def permute_column(X, cols):\n",
    "    X_new = X.copy()\n",
    "    X_new[:,cols] = np.random.permutation(X_new[:,cols])\n",
    "    return X_new\n",
    "\n",
    "## Peform importance analysis by permutation test\n",
    "## Return the mean decrease of correlation between predicted Y and true Y\n",
    "## Per column or column set (hot encoded columns)\n",
    "def importance(reg, cols_list, X, Y, nPerm = 100):\n",
    "    imps = []\n",
    "    for cols in cols_list:\n",
    "        scores = [[r2_score(Y[:,0], reg.predict(permute_column(X, cols))[:,0]),\n",
    "                   r2_score(Y[:,1], reg.predict(permute_column(X, cols))[:,1])] for i in range(nPerm)]\n",
    "        mean_scores = np.mean(scores, axis = 0)\n",
    "        imps.append(mean_scores)\n",
    "\n",
    "    return imps"
   ],
   "metadata": {
    "collapsed": false,
    "pycharm": {
     "name": "#%%\n"
    }
   }
  },
  {
   "cell_type": "markdown",
   "source": [
    "Perpare a column list, each element is a list of column(s)."
   ],
   "metadata": {
    "collapsed": false,
    "pycharm": {
     "name": "#%% md\n"
    }
   }
  },
  {
   "cell_type": "code",
   "execution_count": 17,
   "outputs": [],
   "source": [
    "cols_list = [[x] for x in range(34)]\n",
    "cols_list.append([34, 35, 36])\n",
    "cols_list.append([37, 38, 39, 40, 41])"
   ],
   "metadata": {
    "collapsed": false,
    "pycharm": {
     "name": "#%%\n"
    }
   }
  },
  {
   "cell_type": "markdown",
   "source": [
    "Perform the analysis"
   ],
   "metadata": {
    "collapsed": false,
    "pycharm": {
     "name": "#%% md\n"
    }
   }
  },
  {
   "cell_type": "code",
   "execution_count": 18,
   "outputs": [],
   "source": [
    "imps_permutation = importance(reg, cols_list, X, Y, 3)"
   ],
   "metadata": {
    "collapsed": false,
    "pycharm": {
     "name": "#%%\n"
    }
   }
  },
  {
   "cell_type": "markdown",
   "source": [
    "Prepare the name of columns. Recall that column 34-36 are hot encoded metabolism and 37-41 are hot encoded habit"
   ],
   "metadata": {
    "collapsed": false,
    "pycharm": {
     "name": "#%% md\n"
    }
   }
  },
  {
   "cell_type": "code",
   "execution_count": 19,
   "outputs": [],
   "source": [
    "var_names = col_names[0:34]\n",
    "var_names.append(\"Metabolism\")\n",
    "var_names.append(\"Habit\")"
   ],
   "metadata": {
    "collapsed": false,
    "pycharm": {
     "name": "#%%\n"
    }
   }
  },
  {
   "cell_type": "markdown",
   "source": [
    "Attach names to mean decrease correlation"
   ],
   "metadata": {
    "collapsed": false,
    "pycharm": {
     "name": "#%% md\n"
    }
   }
  },
  {
   "cell_type": "code",
   "execution_count": 20,
   "outputs": [],
   "source": [
    "imp_original = [r2_score(Y[:,0], reg.predict(X)[:,0]),\n",
    "                r2_score(Y[:,1], reg.predict(X)[:,1])]\n",
    "imp_decrease = [list(imp_original - imps_permutation[i]) for i in range(len(imps_permutation))]\n",
    "imp_decrease = np.array(imp_decrease)"
   ],
   "metadata": {
    "collapsed": false,
    "pycharm": {
     "name": "#%%\n"
    }
   }
  },
  {
   "cell_type": "markdown",
   "source": [
    "Show variables that have top 5 mean decrease correlation of IBD"
   ],
   "metadata": {
    "collapsed": false,
    "pycharm": {
     "name": "#%% md\n"
    }
   }
  },
  {
   "cell_type": "code",
   "execution_count": 21,
   "outputs": [
    {
     "data": {
      "text/plain": "[('min_lon', 0.02918962297472194, 0.035510337567239036),\n ('max_lon', 0.028906181329495212, 0.046906361732080126),\n ('area', 0.013072665926972649, 0.034563848770119254),\n ('elevation_mean', 0.01205393265187285, 0.015657339706638407),\n ('abs_mid_lat', 0.006413904804573128, 0.005176871537975858)]"
     },
     "execution_count": 21,
     "metadata": {},
     "output_type": "execute_result"
    }
   ],
   "source": [
    "sorted(zip(var_names, imp_decrease[:,0], imp_decrease[:,1]), key = lambda x: x[1], reverse=True)[0:5]"
   ],
   "metadata": {
    "collapsed": false,
    "pycharm": {
     "name": "#%%\n"
    }
   }
  },
  {
   "cell_type": "markdown",
   "source": [
    "Show variables that have top 5 mean decrease correlation of IBE"
   ],
   "metadata": {
    "collapsed": false,
    "pycharm": {
     "name": "#%% md\n"
    }
   }
  },
  {
   "cell_type": "code",
   "execution_count": 22,
   "outputs": [
    {
     "data": {
      "text/plain": "[('max_lon', 0.028906181329495212, 0.046906361732080126),\n ('min_lon', 0.02918962297472194, 0.035510337567239036),\n ('area', 0.013072665926972649, 0.034563848770119254),\n ('elevation_mean', 0.01205393265187285, 0.015657339706638407),\n ('min_lat', 0.0021908512833261062, 0.00877845562464602)]"
     },
     "execution_count": 22,
     "metadata": {},
     "output_type": "execute_result"
    }
   ],
   "source": [
    "sorted(zip(var_names, imp_decrease[:,0], imp_decrease[:,1]), key = lambda x: x[2], reverse=True)[0:5]"
   ],
   "metadata": {
    "collapsed": false,
    "pycharm": {
     "name": "#%%\n"
    }
   }
  }
 ],
 "metadata": {
  "kernelspec": {
   "display_name": "Python 3",
   "language": "python",
   "name": "python3"
  },
  "language_info": {
   "codemirror_mode": {
    "name": "ipython",
    "version": 2
   },
   "file_extension": ".py",
   "mimetype": "text/x-python",
   "name": "python",
   "nbconvert_exporter": "python",
   "pygments_lexer": "ipython2",
   "version": "2.7.6"
  }
 },
 "nbformat": 4,
 "nbformat_minor": 0
}